{
 "cells": [
  {
   "cell_type": "code",
   "execution_count": null,
   "metadata": {},
   "outputs": [],
   "source": [
    "#!/usr/bin/env python3\n",
    "# -*- coding: UTF-8 -*-\n",
    "\n",
    "'''\n",
    "    Author: Xingwang Xiong\n",
    "    Date:    2019-02-22\n",
    "'''\n",
    "\n",
    "import time\n",
    "import json\n",
    "import requests\n",
    "from bs4 import BeautifulSoup"
   ]
  },
  {
   "cell_type": "code",
   "execution_count": null,
   "metadata": {},
   "outputs": [],
   "source": [
    "header={'User-Agent': 'Mozilla/5.0 (Macintosh; Intel Mac OS X 10_14_3) AppleWebKit/537.36 (KHTML, like Gecko) Chrome/72.0.3626.109 Safari/537.36'}\n",
    "# sep.ucas.ac.cn 账号和密码\n",
    "usr = 'username'\n",
    "pwd = 'password.'\n",
    "# 学号\n",
    "sno = 'school number'\n",
    "# 联系电话\n",
    "tel = 'telphone'\n",
    "# 路线时间\n",
    "route_time = '10:00:00'\n",
    "# 预定时间\n",
    "booking_date = '2019-02-24'"
   ]
  },
  {
   "cell_type": "markdown",
   "metadata": {},
   "source": [
    "添加**用户信息** 和 **车次信息**"
   ]
  },
  {
   "cell_type": "code",
   "execution_count": null,
   "metadata": {},
   "outputs": [],
   "source": [
    "session = requests.Session()"
   ]
  },
  {
   "cell_type": "code",
   "execution_count": null,
   "metadata": {},
   "outputs": [],
   "source": [
    "i1=session.get('http://sep.ucas.ac.cn/slogin')\n",
    "i1_cookies=i1.cookies.get_dict()"
   ]
  },
  {
   "cell_type": "code",
   "execution_count": null,
   "metadata": {},
   "outputs": [],
   "source": [
    "# 登录到 sep.ucas.ac.cn\n",
    "i2 = session.post(url='http://sep.ucas.ac.cn/slogin',data={'userName': usr, 'pwd': pwd, 'site': 'yikatongzhifu', 'sb': 'sb'}, cookies=i1_cookies)"
   ]
  },
  {
   "cell_type": "code",
   "execution_count": null,
   "metadata": {},
   "outputs": [],
   "source": [
    "# 进入一卡通支付\n",
    "i3=session.get('http://sep.ucas.ac.cn/portal/site/311')\n",
    "i4=session.get(url='http://payment.ucas.ac.cn/NetWorkUI/sepLoginAction!findbyIdserial.do?idserial='+sno,data={'idserial': sno}, headers=header)"
   ]
  },
  {
   "cell_type": "code",
   "execution_count": null,
   "metadata": {},
   "outputs": [],
   "source": [
    "# 获取车次详情\n",
    "i5=session.post(url='http://payment.ucas.ac.cn/NetWorkUI/queryBusByDate', data={\"bookingdate\": booking_date, \"factorycode\": \"R001\"})\n",
    "# 输出 booking_date 当天所有的车次，用于调试\n",
    "# print(json.dumps(i5.json(), sort_keys=True, indent=4, ensure_ascii=False))\n",
    "# 路线编号, 路线名称, 路线详情\n",
    "route_code, route_name, route_detail = (None, None, None)\n",
    "for route in i5.json()['routelist']:\n",
    "    if route['routetime'] == route_time:\n",
    "        route_code = route['routecode']\n",
    "        route_name = route['routename']\n",
    "        route_detail = route['routedetail']\n",
    "        break\n",
    "assert route_code != None and route_name != None, '路线不存在'\n",
    "print('您选择了 [%s] 的校车\\n\\t路线编号(route_code)：%s, \\n\\t路线名称(route_name): %s, \\n\\t路线详情(route_detail): %s\\n' % (route_time, route_code, route_name, route_detail))"
   ]
  },
  {
   "cell_type": "code",
   "execution_count": null,
   "metadata": {},
   "outputs": [],
   "source": [
    "i6=session.post(url='http://payment.ucas.ac.cn/NetWorkUI/queryRemainingSeats', data={'routecode': route_code, 'bookingdate': booking_date, 'factorycode': 'R001'})\n",
    "assert i6.json()['returncode'] == 'SUCCESS', json.dumps(i6.json(), sort_keys=True, indent=4, ensure_ascii=False)\n",
    "free_seat=int(i6.json()['returndata']['freeseat'])\n",
    "print(free_seat)\n",
    "assert free_seat > 0, '所选的班车没有座位啦！:( } \\n' + json.dumps(i6.json(), sort_keys=True, indent=4, ensure_ascii=False)\n",
    "i6=session.post(url='http://payment.ucas.ac.cn/NetWorkUI/openReservedBusInfoConfirm', data={ \"carno\": route_code, \"payProjectId\":\"4\", \"factorycode\":\"R001\", \"payamtstr\":\"6.00\", \"freeseat\": free_seat, \"routecode\": route_code, \"bookingdate\": booking_date, \"routeName\": route_name, \"payAmt\":\"6.00\"})"
   ]
  },
  {
   "cell_type": "code",
   "execution_count": null,
   "metadata": {},
   "outputs": [],
   "source": [
    "while True:\n",
    "    i7=session.post(url='http://payment.ucas.ac.cn/NetWorkUI/reservedBusCreateOrder', data={ \"routecode\": route_code, \"payAmt\":\"6.00\", \"bookingdate\": booking_date, \"payProjectId\":\"4\", \"tel\": tel, \"factorycode\":\"R001\" })\n",
    "    print(json.dumps(i7.json(), sort_keys=True, indent=4, ensure_ascii=False))\n",
    "    if i7.json()['returncode'] == 'SUCCESS': break\n",
    "    time.sleep(5)"
   ]
  }
 ],
 "metadata": {
  "kernelspec": {
   "display_name": "Python 3",
   "language": "python",
   "name": "python3"
  },
  "language_info": {
   "codemirror_mode": {
    "name": "ipython",
    "version": 3
   },
   "file_extension": ".py",
   "mimetype": "text/x-python",
   "name": "python",
   "nbconvert_exporter": "python",
   "pygments_lexer": "ipython3",
   "version": "3.6.8"
  }
 },
 "nbformat": 4,
 "nbformat_minor": 2
}
